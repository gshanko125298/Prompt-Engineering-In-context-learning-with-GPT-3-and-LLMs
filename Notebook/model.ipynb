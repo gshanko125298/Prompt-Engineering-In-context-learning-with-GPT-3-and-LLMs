{
  "cells": [
    {
      "cell_type": "code",
      "execution_count": null,
      "metadata": {
        "id": "0kxd0UlXEthU"
      },
      "outputs": [],
      "source": [
        "import sys\n",
        "import os\n",
        "\n",
        "import cohere"
      ]
    },
    {
      "cell_type": "code",
      "execution_count": null,
      "metadata": {
        "id": "UbJzFUYdEthf"
      },
      "outputs": [],
      "source": [
        "sys.path.append(os.path.abspath(os.path.join(\"..\")))\n",
        "import config\n",
        "\n",
        "api_key = config.cohere_api[\"api_key\"]"
      ]
    },
    {
      "cell_type": "code",
      "execution_count": null,
      "metadata": {
        "id": "6GYfZXYVEthh"
      },
      "outputs": [],
      "source": [
        "co = cohere.Client(api_key)\n",
        "prediction = co.generate(\n",
        "    # model=\"large\",\n",
        "    model=\"******fine_tuned_model******\",\n",
        "    prompt= \"Due it being late, we regret to inform you that our resturant\\n\",\n",
        "    max_tokens=50,\n",
        "    temperature=0.75,\n",
        "    k=0,\n",
        "    p=0.75,\n",
        "    stop_sequences=[]\n",
        ")\n",
        "\n",
        "print(prediction.generations[0].text)"
      ]
    },
    {
      "cell_type": "code",
      "execution_count": null,
      "metadata": {
        "id": "8QUJ_4bVEthj"
      },
      "outputs": [],
      "source": []
    }
  ],
  "metadata": {
    "kernelspec": {
      "display_name": "Python 3.10.4 ('ll2')",
      "language": "python",
      "name": "python3"
    },
    "language_info": {
      "codemirror_mode": {
        "name": "ipython",
        "version": 3
      },
      "file_extension": ".py",
      "mimetype": "text/x-python",
      "name": "python",
      "nbconvert_exporter": "python",
      "pygments_lexer": "ipython3",
      "version": "3.10.4"
    },
    "orig_nbformat": 4,
    "vscode": {
      "interpreter": {
        "hash": "2e642ba35e7b3200acf5a5866fb09e8b840a46fa8e6fc0ed25b245d772ed6d87"
      }
    },
    "colab": {
      "provenance": []
    }
  },
  "nbformat": 4,
  "nbformat_minor": 0
}