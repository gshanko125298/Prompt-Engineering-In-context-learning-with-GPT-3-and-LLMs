{
 "cells": [
  {
   "cell_type": "markdown",
   "id": "9a78b198",
   "metadata": {},
   "source": [
    "# Entity Extraction with Generative Models"
   ]
  },
  {
   "cell_type": "markdown",
   "id": "ada1648a",
   "metadata": {},
   "source": [
    "## This notebook demonstrates how to use Cohere's generative models to extract entity from job description .json dataset"
   ]
  },
  {
   "cell_type": "markdown",
   "id": "891dd333",
   "metadata": {},
   "source": [
    "##### Setup"
   ]
  },
  {
   "cell_type": "markdown",
   "id": "598cc358",
   "metadata": {},
   "source": [
    "Let's start by installing the packages we need."
   ]
  },
  {
   "cell_type": "code",
   "execution_count": null,
   "id": "356d4d58",
   "metadata": {},
   "outputs": [],
   "source": [
    "!pip install cohere requests tqdm"
   ]
  },
  {
   "cell_type": "code",
   "execution_count": 2,
   "id": "42fcf83b",
   "metadata": {},
   "outputs": [],
   "source": [
    "import cohere\n",
    "import pandas as pd\n",
    "import requests\n",
    "import datetime\n",
    "from tqdm import tqdm\n",
    "pd.set_option('display.max_colwidth', None)\n",
    "\n",
    "def get_post_titles(**kwargs):\n",
    "    \"\"\" Gets data from the pushshift local dataset \"\"\"\n",
    "    base_url = f\"https://api.pushshift.io/reddit/search/submission/\"\n",
    "    payload = kwargs\n",
    "    request = requests.get(base_url, params=payload)\n",
    "    return [a['title'] for a in request.json()['data']]"
   ]
  },
  {
   "cell_type": "code",
   "execution_count": null,
   "id": "00bd81be",
   "metadata": {},
   "outputs": [],
   "source": [
    "# Paste your API key here. Remember to not share publicly\n",
    "api_key = ''\n",
    "\n",
    "# Create and retrieve a Cohere API key from os.cohere.ai\n",
    "co = cohere.Client(api_key)"
   ]
  },
  {
   "cell_type": "markdown",
   "id": "d2987bcf",
   "metadata": {},
   "source": [
    "##### Creating the extraction prompt"
   ]
  },
  {
   "cell_type": "code",
   "execution_count": null,
   "id": "35f36436",
   "metadata": {},
   "outputs": [],
   "source": [
    "#@title Create the prompt (Run this cell to execute required code) {display-mode: \"form\"}\n",
    "\n",
    "class cohereExtractor():\n",
    "    def __init__(self, examples, example_labels, labels, task_desciption, example_prompt):\n",
    "        self.examples = examples\n",
    "        self.example_labels = example_labels\n",
    "        self.labels = labels\n",
    "        self.task_desciption = task_desciption\n",
    "        self.example_prompt = example_prompt\n",
    "\n",
    "    def make_prompt(self, example):\n",
    "        examples = self.examples + [example]\n",
    "        labels = self.example_labels + [\"\"]\n",
    "        return (self.task_desciption +\n",
    "                \"\\n---\\n\".join( [examples[i] + \"\\n\" +\n",
    "                                self.example_prompt + \n",
    "                                 labels[i] for i in range(len(examples))]))\n",
    "\n",
    "    def extract(self, example):\n",
    "      extraction = co.generate(\n",
    "          model='large',\n",
    "          prompt=self.make_prompt(example),\n",
    "          max_tokens=10,\n",
    "          temperature=0.1,\n",
    "          stop_sequences=[\"\\n\"])\n",
    "      return(extraction.generations[0].text[:-1])\n",
    "\n",
    "\n",
    "cohereMovieExtractor = cohereExtractor([e[1] for e in movie_examples], \n",
    "                                       [e[0] for e in movie_examples], [],\n",
    "                                       \"\", \n",
    "                                       \"extract the movie title from the post:\")\n",
    "\n",
    "# Uncomment to inspect the full prompt:\n",
    "# print(cohereMovieExtractor.make_prompt('<input text here>'))"
   ]
  }
 ],
 "metadata": {
  "kernelspec": {
   "display_name": "Python 3 (ipykernel)",
   "language": "python",
   "name": "python3"
  },
  "language_info": {
   "codemirror_mode": {
    "name": "ipython",
    "version": 3
   },
   "file_extension": ".py",
   "mimetype": "text/x-python",
   "name": "python",
   "nbconvert_exporter": "python",
   "pygments_lexer": "ipython3",
   "version": "3.9.12"
  }
 },
 "nbformat": 4,
 "nbformat_minor": 5
}
